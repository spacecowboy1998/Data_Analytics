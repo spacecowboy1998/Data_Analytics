{
 "cells": [
  {
   "cell_type": "markdown",
   "metadata": {
    "id": "F1JDwFdXqIvA",
    "pycharm": {
     "name": "#%% md\n"
    }
   },
   "source": [
    "#**პრაქტიკული დავალება #5**\n",
    "## **ვადა (deadline): 21 ივნისი 9:00AM**\n",
    "\n",
    "- თითოეული სავარჯიშო ფასდება შესაბამისი ქულით, რაც ჯამში შეადგენს **7 ქულას**"
   ]
  },
  {
   "cell_type": "markdown",
   "metadata": {
    "id": "nyP8JZl4_7eI",
    "pycharm": {
     "name": "#%% md\n"
    }
   },
   "source": [
    "**პრობლემის აღწერა:**\n",
    "ავიაკომპანიები ცდილობენ გააუმჯობესონ მომხმარებელთა კმაყოფილება, რათა შეინარჩუნონ კლიენტები და გაზარდონ ბრენდის ერთგულება. ათასობით მომხმარებლის ყოველდღიური ფრენის გათვალისწინებით, მნიშვნელოვანია მომხმარებელთა კმაყოფილების განმაპირობებელი ფაქტორების გაგება. ჩვენი მონაცემები შეიცავს ინფორმაციას მომხმარებელთა გამოცდილების სხვადასხვა ასპექტისა და მათი ზოგადი კმაყოფილების დონის შესახებ. ამ მონაცემების ანალიზით, ჩვენ უნდა გამოვავლინოთ მომხმარებელთა კმაყოფილების განმსაზღვრელი კანონზომიერებები.\n",
    "\n",
    "**მიზანი:**\n",
    "ავაგოთ მოდელი, რომელიც შეგვაძლებინებს დავაპროგნოზოთ, არის თუ არა მომხმარებელი კმაყოფილი ან უკმაყოფილო მათი ფრენის გამოცდილებასთან დაკავშირებული სხვადასხვა მახასიათებლების საფუძველზე. ეს მოდელი დაეხმარება ავიაკომპანიას პროაქტიულად მართოს ფაქტორები, რომლებიც იწვევენ უკმაყოფილებას და გააუმჯობესოს მომხმარებელთა ზოგადი კმაყოფილება.\n",
    "\n",
    "**[მონაცემები:](https://drive.google.com/drive/folders/1TxMqaH4zYYQYlbsaw0kcMTXLQYXrgwCL?usp=drive_link)**\n",
    "  - Airline_customer_satisfaction.csv - მონაცემები სამედიცინო ჩანაწერებიდან.\n",
    "  - Airline_customer_satisfaction_desc.csv - ველების აღწერა.\n",
    "\n",
    "**მეთოდი:** ლოგისტიკური რეგრესია\n",
    "\n",
    "**ᲘᲮᲔᲚᲛᲫᲦᲕᲐᲜᲔᲚᲔᲗ:** [ᲚᲔᲥᲪᲘᲐ 10: ᲚᲝᲒᲘᲡᲢᲘᲙᲣᲠᲘ ᲠᲔᲒᲠᲔᲡᲘᲐ](https://colab.research.google.com/drive/1iAfgAsJCgeQlcMpu6SWfciPLkYrxKcMV?usp=sharing)"
   ]
  },
  {
   "cell_type": "code",
   "execution_count": null,
   "outputs": [],
   "source": [
    "import pandas as pd\n",
    "import numpy as np\n",
    "\n",
    "from sklearn.preprocessing import StandardScaler\n",
    "from sklearn.model_selection import train_test_split\n",
    "from sklearn.linear_model import LogisticRegression\n",
    "from sklearn.metrics import accuracy_score, precision_score, recall_score, f1_score, roc_auc_score, roc_curve, confusion_matrix\n",
    "\n",
    "import matplotlib.pyplot as plt\n",
    "import seaborn as sns"
   ],
   "metadata": {
    "collapsed": false,
    "pycharm": {
     "name": "#%%\n"
    }
   }
  },
  {
   "cell_type": "markdown",
   "source": [
    "## **სავარჯიშო 1:** მონაცემების ჩატვირთვა და ცარიელი მნიშვნელობების მართვა (**1 ქულა**)\n",
    "  - ჩატვირთეთ მონაცემები pandas-ის გამოყენებით და აჩვენეთ პირველი რამდენიმე მწკრივი.\n",
    "  - შეამოწმეთ და სათანადოდ მართეთ გამოტოვებული მნიშვნელობები მათი შევსებით (ჩანაცვლებით) ან წაშლით.\n",
    "\n"
   ],
   "metadata": {
    "collapsed": false,
    "pycharm": {
     "name": "#%% md\n"
    }
   }
  },
  {
   "cell_type": "code",
   "execution_count": null,
   "outputs": [],
   "source": [
    "df = pd.read_csv('data/Airline_customer_satisfaction.csv')"
   ],
   "metadata": {
    "collapsed": false,
    "pycharm": {
     "name": "#%%\n"
    }
   }
  },
  {
   "cell_type": "code",
   "execution_count": null,
   "outputs": [],
   "source": [
    "# მონაცემთა ფორმა\n",
    "df.shape"
   ],
   "metadata": {
    "collapsed": false,
    "pycharm": {
     "name": "#%%\n"
    }
   }
  },
  {
   "cell_type": "code",
   "execution_count": null,
   "outputs": [],
   "source": [
    "# პირველი 5 მწკრივი\n",
    "df.head()"
   ],
   "metadata": {
    "collapsed": false,
    "pycharm": {
     "name": "#%%\n"
    }
   }
  },
  {
   "cell_type": "code",
   "execution_count": null,
   "outputs": [],
   "source": [
    "# გამოტოვებული მონაცემები მონაცემები\n",
    "df.isnull().sum()"
   ],
   "metadata": {
    "collapsed": false,
    "pycharm": {
     "name": "#%%\n"
    }
   }
  },
  {
   "cell_type": "code",
   "execution_count": null,
   "outputs": [],
   "source": [
    "# შევავსოთ გამოტოვებული მნიშვნლეობები მედიანით\n",
    "df['Arrival Delay in Minutes'] = df['Arrival Delay in Minutes'].fillna(df['Arrival Delay in Minutes'].median())"
   ],
   "metadata": {
    "collapsed": false,
    "pycharm": {
     "name": "#%%\n"
    }
   }
  },
  {
   "cell_type": "code",
   "execution_count": null,
   "outputs": [],
   "source": [
    "# დუბლირებული მონაცემები\n",
    "df.duplicated().sum()"
   ],
   "metadata": {
    "collapsed": false,
    "pycharm": {
     "name": "#%%\n"
    }
   }
  },
  {
   "cell_type": "code",
   "execution_count": null,
   "outputs": [],
   "source": [
    "# მონაცემთა ტიპები\n",
    "df.dtypes"
   ],
   "metadata": {
    "collapsed": false,
    "pycharm": {
     "name": "#%%\n"
    }
   }
  },
  {
   "cell_type": "code",
   "execution_count": null,
   "outputs": [],
   "source": [
    "# მონაცემთა აღწერა\n",
    "df.describe()"
   ],
   "metadata": {
    "collapsed": false,
    "pycharm": {
     "name": "#%%\n"
    }
   }
  },
  {
   "cell_type": "markdown",
   "source": [
    "## **სავარჯიშო 2:** კატეგორიული ცვლადების კოდირება (**1 ქულა**)\n",
    "  - გარდაქმენით 'satisfaction' სვეტი ბინარულ რიცხვით ველად - 'dissatisfied'=0-ზე და 'satisfied'=1.\n",
    "  - გამოიყენეთ one-hot კოდირება სხვა კატეგორიულ ველებზე.\n",
    "\n"
   ],
   "metadata": {
    "collapsed": false,
    "pycharm": {
     "name": "#%% md\n"
    }
   }
  },
  {
   "cell_type": "code",
   "execution_count": null,
   "outputs": [],
   "source": [
    "# დავაკონვერტიროთ satisfaction სვეტი ბინალურ ველად\n",
    "df['satisfaction'] = df['satisfaction'].map({'dissatisfied': 0, 'satisfied': 1})\n",
    "\n",
    "# კატეგორიული ველების one-hot კოდირება\n",
    "categorical_columns = ['Customer Type', 'Type of Travel', 'Class']\n",
    "df = pd.get_dummies(df, columns=categorical_columns)"
   ],
   "metadata": {
    "collapsed": false,
    "pycharm": {
     "name": "#%%\n"
    }
   }
  },
  {
   "cell_type": "markdown",
   "source": [
    "## **სავარჯიშო 3:** რიცხვითი ცვლადები ნორმალიზება (**1 ქულა**)\n",
    "  - განსაზღვრეთ რიცხვითი სვეტები, რომლებიც საჭიროებს ნორმალიზება/სტანდარტიზებას.\n",
    "  - გამოიყენეთ StandardScaler ამ სვეტებზე.\n",
    "\n"
   ],
   "metadata": {
    "collapsed": false,
    "pycharm": {
     "name": "#%% md\n"
    }
   }
  },
  {
   "cell_type": "code",
   "execution_count": null,
   "outputs": [],
   "source": [
    "# სვეტები რომლებიც საჭიროებს ნორმალიზებას\n",
    "columns = ['Age', 'Flight Distance', 'Departure Delay in Minutes', 'Arrival Delay in Minutes']\n",
    "\n",
    "# გამოვიყენოთ StandartScaler\n",
    "scaler = StandardScaler()\n",
    "df[columns] = scaler.fit_transform(df[columns])"
   ],
   "metadata": {
    "collapsed": false,
    "pycharm": {
     "name": "#%%\n"
    }
   }
  },
  {
   "cell_type": "markdown",
   "source": [
    "## **სავარჯიშო 4:** მონაცემების დაყოფა (**1 ქულა**)\n",
    "- განსაზღვრეთ მახასიათებლების ნაკრები (X) და სამიზნე ცვლადი (y).\n",
    "- გაყავით მონაცემები საწვრთნელ და სატესტო ნაწილებად 80/20 თანაფარდობით.\n",
    "\n"
   ],
   "metadata": {
    "collapsed": false,
    "pycharm": {
     "name": "#%% md\n"
    }
   }
  },
  {
   "cell_type": "code",
   "execution_count": null,
   "outputs": [],
   "source": [
    "# განვსაზღვროთ დამოკიდებული და დამოუკიდებელი ცვლადები\n",
    "X = df.drop('satisfaction', axis=1)\n",
    "y = df['satisfaction']\n",
    "\n",
    "# გავყოთ მონაცემები სატესტო და სატრენინგო ნაწილებად\n",
    "X_train, X_test, y_train, y_test = train_test_split(X, y, test_size=0.2, random_state=42)\n",
    "\n",
    "# სატესტო და სატრენინგო მონაცემების ზომა\n",
    "(X_train.shape, X_test.shape, y_train.shape, y_test.shape)"
   ],
   "metadata": {
    "collapsed": false,
    "pycharm": {
     "name": "#%%\n"
    }
   }
  },
  {
   "cell_type": "markdown",
   "source": [
    "## **სავარჯიშო 5:** მოდელის გაწვრთნა და პროგნოზი (**1 ქულა**)\n",
    "  - გაწვრთენით ლოგისტიკური რეგრესიის მოდელი საწვრთნელი მონაცემებით.\n",
    "  - გააკეთეთ პროგნოზები გაწვრთნილი მოდელის გამოყენებით სატესტო მონაცემებზე."
   ],
   "metadata": {
    "collapsed": false,
    "pycharm": {
     "name": "#%% md\n"
    }
   }
  },
  {
   "cell_type": "code",
   "execution_count": null,
   "outputs": [],
   "source": [
    "# მოდელის გაწრთვნა\n",
    "model = LogisticRegression(random_state=42)\n",
    "model.fit(X_train, y_train)\n",
    "\n",
    "# სატესტო სეტზე მოდელის პროგნოზირება\n",
    "y_pred = model.predict(X_test)\n",
    "y_pred_prob = model.predict_proba(X_test)[:, 1]"
   ],
   "metadata": {
    "collapsed": false,
    "pycharm": {
     "name": "#%%\n"
    }
   }
  },
  {
   "cell_type": "markdown",
   "source": [
    "## **სავარჯიშო 6:** მოდელის შეფასება (**1 ქულა**)\n",
    "გამოთვალეთ მოდელის საზომები და ახსენით, რას მეტყველებს მოდელის ხარისხზე:\n",
    "  - სიზუსტე (Accuracy)\n",
    "  - სიცხადე (Precision)\n",
    "  - მგრძნობელობა (Recall)\n",
    "  - F1 ქულა (F1 score)\n",
    "  - ROC AUC\n",
    "  - ჯინის კოეფიციენტი\n",
    "\n"
   ],
   "metadata": {
    "collapsed": false,
    "pycharm": {
     "name": "#%% md\n"
    }
   }
  },
  {
   "cell_type": "code",
   "execution_count": null,
   "outputs": [],
   "source": [
    "# მეტრიკების გამოთვლა\n",
    "cm = confusion_matrix(y_test, y_pred)\n",
    "accuracy = accuracy_score(y_test, y_pred)\n",
    "precision = precision_score(y_test, y_pred)\n",
    "recall = recall_score(y_test, y_pred)\n",
    "f1 = f1_score(y_test, y_pred)\n",
    "roc_auc = roc_auc_score(y_test, y_pred_prob)\n",
    "gini_coefficient = 2 * roc_auc - 1\n"
   ],
   "metadata": {
    "collapsed": false,
    "pycharm": {
     "name": "#%%\n"
    }
   }
  },
  {
   "cell_type": "markdown",
   "source": [
    "## **სავარჯიშო 7:** შედეგების ვიზუალიზება (**1 ქულა**)\n",
    "  - გრაფიკულად გამოსახეთ აღრევის მატრიცა (confusion matrix)\n",
    "  - სვეტოვანი დიაგრამით გრაფიკულად გამოსახეთ მე-6 სავარჯიშოში დათვლილი საზომები.\n",
    "  - დახაზეთ ROC მრუდი და მიუთითეთ AUC მნიშვნელობა.\n",
    "  - შექმენით სიმკვრივის გრაფიკები პროგნოზირებული ალბათობებისთვის, დაყოფილი ფაქტობრივი კლასის მიხედვით (კმაყოფილი და უკმაყოფილო).\n"
   ],
   "metadata": {
    "collapsed": false,
    "pycharm": {
     "name": "#%% md\n"
    }
   }
  },
  {
   "cell_type": "code",
   "execution_count": null,
   "outputs": [],
   "source": [
    "# პლოტი\n",
    "fig, axs = plt.subplots(2, 2, figsize=(15, 12))\n",
    "\n",
    "# გადაწყვეტილების მიჯნა\n",
    "threshold = 0.5\n",
    "\n",
    "# აღრეუულობის მატრიცა\n",
    "sns.heatmap(cm, annot=True, cmap='Blues', fmt='d', cbar=True,\n",
    "            xticklabels=['კმაყოფილი', 'უკმაყოფილო'],\n",
    "            yticklabels=['კმაყოფილი', 'უკმაყოფილო'], ax=axs[0, 0])\n",
    "axs[0, 0].set_xlabel('ნაპროგნოზები მდგომარეობა')\n",
    "axs[0, 0].set_ylabel('ნამდვილი მდგომარეობა')\n",
    "axs[0, 0].set_title('აღრეულობის მატრიცა')\n",
    "\n",
    "# მეტრიკების bar ჩარტი\n",
    "metrics = ['სიზუსტე', 'სიცხადე', 'ამოცნობა', 'F1 ქულა', 'ROC AUC', 'ჯინი']\n",
    "values = [accuracy, precision, recall, f1, roc_auc, gini_coefficient]\n",
    "\n",
    "bars = axs[0, 1].bar(metrics, values, color=['blue', 'green', 'red', 'purple', 'orange', 'cyan'])\n",
    "axs[0, 1].set_ylim(0, 1)\n",
    "axs[0, 1].set_xlabel('მეტრიკა')\n",
    "axs[0, 1].set_ylabel('მნიშვნელობა')\n",
    "axs[0, 1].set_title('კლასიფიკაციის ხარისხის მეტრიკები')\n",
    "\n",
    "# ყოველ სვეტზე მნიშვნელობის დამატება\n",
    "for bar in bars:\n",
    "    yval = bar.get_height()\n",
    "    axs[0, 1].text(bar.get_x() + bar.get_width() / 2, yval + 0.01, round(yval, 2), ha='center', va='bottom')\n",
    "\n",
    "# ROC მრუდი\n",
    "fpr, tpr, thresholds = roc_curve(y_test, y_pred_prob)\n",
    "axs[1, 0].plot(fpr, tpr, label=f'ROC მრუდი (მრუდქვეშა სივრცე = {roc_auc:.2f})')\n",
    "axs[1, 0].plot([0, 1], [0, 1], 'k--')\n",
    "axs[1, 0].set_xlabel('ცრუ დადებითი წილი')\n",
    "axs[1, 0].set_ylabel('ნამდვილი დადებითი წილი')\n",
    "axs[1, 0].set_title('ROC მრუდი')\n",
    "axs[1, 0].legend(loc='best')\n",
    "\n",
    "# ხდომილებათა ალბათობის სიმკვრივის ფუნქციები\n",
    "clipped_probs = np.clip(y_pred_prob, 0, 1)\n",
    "satisfaction_probs = clipped_probs[y_test == 1]\n",
    "non_satisfaction_probs = clipped_probs[y_test == 0]\n",
    "\n",
    "sns.kdeplot(satisfaction_probs, label='კმაყოფილი', color='green', fill=True, ax=axs[1, 1])\n",
    "sns.kdeplot(non_satisfaction_probs, label='უკმაყოფილო', color='red', fill=True, ax=axs[1, 1])\n",
    "\n",
    "# მრუდების ქვეშ სივრცის გაფერადება\n",
    "satisfaction_kde = sns.kdeplot(satisfaction_probs, color='green', fill=True, ax=axs[1, 1]).get_lines()\n",
    "non_satisfaction_kde = sns.kdeplot(non_satisfaction_probs, color='red', fill=True, ax=axs[1, 1]).get_lines()\n",
    "\n",
    "if satisfaction_kde and non_satisfaction_kde:\n",
    "    satisfaction_x, satisfaction_y = satisfaction_kde[0].get_data()\n",
    "    non_satisfaction_x, non_satisfaction_y = non_satisfaction_kde[0].get_data()\n",
    "\n",
    "    axs[1, 1].fill_between(satisfaction_x, satisfaction_y, where=(satisfaction_x > threshold) & (satisfaction_y >= non_satisfaction_y), color='green', alpha=0.85, label='ნამდვილი კმაყოფილი')\n",
    "    axs[1, 1].fill_between(non_satisfaction_x, non_satisfaction_y, where=(non_satisfaction_x > threshold) & (non_satisfaction_y <= satisfaction_y), color='red', alpha=0.85, label='ცრუ კმაყოფილი')\n",
    "\n",
    "axs[1, 1].axvline(threshold, color='black', linestyle='--', linewidth=1.5, label='გადაწყვეტილების მიჯნა')\n",
    "axs[1, 1].set_xlabel('ნაპროგნოზები ალბათობა')\n",
    "axs[1, 1].set_ylabel('სიმკვრივე')\n",
    "axs[1, 1].set_xlim(0, 1)\n",
    "axs[1, 1].set_title('კმაყოფილთა და უკმაყოფილოთა ალბათობების განაწილება')\n",
    "axs[1, 1].legend()\n",
    "\n",
    "plt.tight_layout()\n",
    "plt.show()\n"
   ],
   "metadata": {
    "collapsed": false,
    "pycharm": {
     "name": "#%%\n"
    }
   }
  },
  {
   "cell_type": "code",
   "execution_count": null,
   "metadata": {
    "pycharm": {
     "name": "#%%\n"
    }
   },
   "outputs": [],
   "source": []
  }
 ],
 "metadata": {
  "colab": {
   "provenance": []
  },
  "kernelspec": {
   "display_name": "Python 3 (ipykernel)",
   "language": "python",
   "name": "python3"
  },
  "language_info": {
   "codemirror_mode": {
    "name": "ipython",
    "version": 3
   },
   "file_extension": ".py",
   "mimetype": "text/x-python",
   "name": "python",
   "nbconvert_exporter": "python",
   "pygments_lexer": "ipython3",
   "version": "3.9.10"
  }
 },
 "nbformat": 4,
 "nbformat_minor": 4
}