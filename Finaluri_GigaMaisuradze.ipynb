{
 "cells": [
  {
   "cell_type": "markdown",
   "source": [
    "# 1"
   ],
   "metadata": {
    "collapsed": false,
    "pycharm": {
     "name": "#%% md\n"
    }
   }
  },
  {
   "cell_type": "code",
   "execution_count": null,
   "outputs": [],
   "source": [
    "import pandas as pd"
   ],
   "metadata": {
    "collapsed": false,
    "pycharm": {
     "name": "#%%\n"
    }
   }
  },
  {
   "cell_type": "code",
   "execution_count": null,
   "outputs": [],
   "source": [
    "df = pd.read_csv('emails.csv')\n",
    "\n",
    "# გამოტოვებული მონაცემების შევსება \n",
    "missing_columns = df.columns[df.isnull().any()]\n",
    "df[missing_columns] = df[missing_columns].fillna(df[missing_columns].mean())\n",
    "\n",
    "missing_columns"
   ],
   "metadata": {
    "collapsed": false,
    "pycharm": {
     "name": "#%%\n"
    }
   }
  },
  {
   "cell_type": "code",
   "execution_count": null,
   "outputs": [],
   "source": [
    "from sklearn.model_selection import train_test_split\n",
    "\n",
    "# დამოუკიდებელი და ადმოკიდებული ცვლადების განცალკევება\n",
    "X = df.drop('Prediction', axis=1)\n",
    "y = df['Prediction']\n",
    "\n",
    "# გავყოთ მონაცმები სატესტო და სატრენინგო ნაწილებად\n",
    "X_train, X_test, y_train, y_test = train_test_split(X, y, test_size=0.2, random_state=42)\n",
    "\n",
    "# სატესტო და სატრენინგო ნაწილების ზომები\n",
    "X_train.shape, X_test.shape, y_train.shape, y_test.shape\n"
   ],
   "metadata": {
    "collapsed": false,
    "pycharm": {
     "name": "#%%\n"
    }
   }
  },
  {
   "cell_type": "code",
   "execution_count": null,
   "outputs": [],
   "source": [
    "from sklearn.svm import SVC\n",
    "from sklearn.metrics import accuracy_score\n",
    "\n",
    "# მოდელის ინიცირება და გაწრთვნა\n",
    "svc_model = SVC()\n",
    "svc_model.fit(X_train, y_train)\n",
    "\n",
    "# სატრენინგო ნაწილზე score გამოთვლა\n",
    "train_score = svc_model.score(X_train, y_train)\n",
    "\n",
    "# სატესტოზე პროგნოზირება\n",
    "y_pred = svc_model.predict(X_test)\n",
    "\n",
    "# სატესტოს score\n",
    "test_score = accuracy_score(y_test, y_pred)\n",
    "\n",
    "train_score, test_score"
   ],
   "metadata": {
    "collapsed": false,
    "pycharm": {
     "name": "#%%\n"
    }
   }
  },
  {
   "cell_type": "markdown",
   "source": [
    "სხვაობა ტრენინგისა და ტესტირების ქულებს შორის მცირეა (დაახლოებით 0,018), რაც მიუთითებს იმაზე, რომ მოდელი ერთნაირად მუშაობს როგორც ტრენინგის, ასევე ტესტირების მონაცემთა ნაწილებზე."
   ],
   "metadata": {
    "collapsed": false,
    "pycharm": {
     "name": "#%% md\n"
    }
   }
  },
  {
   "cell_type": "code",
   "execution_count": null,
   "outputs": [],
   "source": [
    "from sklearn.feature_selection import SelectKBest, f_classif\n",
    "\n",
    "# 4 საუკეთესო სვეტი\n",
    "selector = SelectKBest(score_func=f_classif, k=4)\n",
    "X_new = selector.fit_transform(X, y)\n",
    "\n",
    "# გავყოთ სატესტო და სატრენინგო ნაწილებად\n",
    "X_train, X_test, y_train, y_test = train_test_split(X_new, y, test_size=0.2, random_state=42)\n",
    "\n",
    "# მოდელის ინიცირება და გაწვრთნა\n",
    "svc_model = SVC()\n",
    "svc_model.fit(X_train, y_train)\n",
    "\n",
    "# სატრენინგო ნაწილზე score გამოთვლა\n",
    "train_score = svc_model.score(X_train, y_train)\n",
    "\n",
    "# სატესტოზე პროგნოზირება\n",
    "y_pred = svc_model.predict(X_test)\n",
    "\n",
    "# სატესტოს score\n",
    "test_score = accuracy_score(y_test, y_pred)\n",
    "\n",
    "train_score, test_score"
   ],
   "metadata": {
    "collapsed": false,
    "pycharm": {
     "name": "#%%\n"
    }
   }
  },
  {
   "cell_type": "markdown",
   "source": [
    "4 სვეტის გათვალსიწინებით გაწრთვნილ მოდელსა და ყველა სვეტით გაწრთვნილ მოდელს შორის არცთუისე დიდს თუმცა სხვოაბას ვხედავთ. ეს სხვოაბა იმის მანიშნელბელია რომ მოდელი მონაცემებთან მუშაობისას ყველა სვეტის დახმარებით უკეთეს შედეგს გვაძლევს ვიდრე 4 სვეტთან მუშაობისას."
   ],
   "metadata": {
    "collapsed": false,
    "pycharm": {
     "name": "#%% md\n"
    }
   }
  },
  {
   "cell_type": "markdown",
   "source": [
    "# 2"
   ],
   "metadata": {
    "collapsed": false,
    "pycharm": {
     "name": "#%% md\n"
    }
   }
  },
  {
   "cell_type": "code",
   "execution_count": null,
   "outputs": [],
   "source": [
    "regression_df = pd.read_csv('regression.csv')\n",
    "\n",
    "# დამოუკიდებელი და ადმოკიდებული ცვლადების განცალკევება\n",
    "X = regression_df[['y']]\n",
    "y = regression_df['x']\n",
    "\n",
    "# გავყოთ მონაცმები სატესტო და სატრენინგო ნაწილებად\n",
    "X_train, X_test, y_train, y_test = train_test_split(X, y, test_size=0.15, random_state=42)\n",
    "\n",
    "# სატესტო და სატრენინგო ნაწილების ზომები\n",
    "X_train.shape, X_test.shape, y_train.shape, y_test.shape\n"
   ],
   "metadata": {
    "collapsed": false,
    "pycharm": {
     "name": "#%%\n"
    }
   }
  },
  {
   "cell_type": "code",
   "execution_count": null,
   "outputs": [],
   "source": [
    "from sklearn.preprocessing import StandardScaler\n",
    "\n",
    "# ინიციალიზება\n",
    "scaler = StandardScaler()\n",
    "\n",
    "# სკალირება\n",
    "X_train_scaled = scaler.fit_transform(X_train)\n",
    "X_test_scaled = scaler.transform(X_test)\n"
   ],
   "metadata": {
    "collapsed": false,
    "pycharm": {
     "name": "#%%\n"
    }
   }
  },
  {
   "cell_type": "code",
   "execution_count": null,
   "outputs": [],
   "source": [
    "from sklearn.linear_model import Ridge\n",
    "import numpy as np\n",
    "\n",
    "#სკალერის ინიცირება\n",
    "scaler = StandardScaler()\n",
    "\n",
    "# სკალირება\n",
    "X_train_scaled = scaler.fit_transform(X_train)\n",
    "X_test_scaled = scaler.transform(X_test)\n",
    "\n",
    "# შევსება გამოტოვებულების\n",
    "X_train_scaled = np.nan_to_num(X_train_scaled)\n",
    "X_test_scaled = np.nan_to_num(X_test_scaled)\n",
    "\n",
    "# მოდელის ინიცრება\n",
    "ridge_model = Ridge()\n",
    "ridge_model.fit(X_train_scaled, y_train)\n",
    "\n",
    "# score  გამოთვლა\n",
    "train_score = ridge_model.score(X_train_scaled, y_train)\n",
    "test_score = ridge_model.score(X_test_scaled, y_test)\n",
    "\n",
    "train_score, test_score"
   ],
   "metadata": {
    "collapsed": false,
    "pycharm": {
     "name": "#%%\n"
    }
   }
  },
  {
   "cell_type": "code",
   "execution_count": null,
   "outputs": [],
   "source": [],
   "metadata": {
    "collapsed": false,
    "pycharm": {
     "name": "#%%\n"
    }
   }
  },
  {
   "cell_type": "code",
   "execution_count": null,
   "outputs": [],
   "source": [
    "df = pd.read_csv('emails.csv')\n",
    "\n",
    "# გამოტოვებული მონაცემების შევსება \n",
    "missing_columns = df.columns[df.isnull().any()]\n",
    "df[missing_columns] = df[missing_columns].fillna(df[missing_columns].mean())\n",
    "\n",
    "missing_columns"
   ],
   "metadata": {
    "collapsed": false,
    "pycharm": {
     "name": "#%%\n"
    }
   }
  },
  {
   "cell_type": "code",
   "execution_count": null,
   "outputs": [],
   "source": [
    "from sklearn.model_selection import train_test_split\n",
    "\n",
    "# დამოუკიდებელი და ადმოკიდებული ცვლადების განცალკევება\n",
    "X = df.drop('Prediction', axis=1)\n",
    "y = df['Prediction']\n",
    "\n",
    "# გავყოთ მონაცმები სატესტო და სატრენინგო ნაწილებად\n",
    "X_train, X_test, y_train, y_test = train_test_split(X, y, test_size=0.2, random_state=42)\n",
    "\n",
    "# სატესტო და სატრენინგო ნაწილების ზომები\n",
    "X_train.shape, X_test.shape, y_train.shape, y_test.shape\n"
   ],
   "metadata": {
    "collapsed": false,
    "pycharm": {
     "name": "#%%\n"
    }
   }
  },
  {
   "cell_type": "code",
   "execution_count": null,
   "outputs": [],
   "source": [
    "from sklearn.svm import SVC\n",
    "from sklearn.metrics import accuracy_score\n",
    "\n",
    "# მოდელის ინიცირება და გაწრთვნა\n",
    "svc_model = SVC()\n",
    "svc_model.fit(X_train, y_train)\n",
    "\n",
    "# სატრენინგო ნაწილზე score გამოთვლა\n",
    "train_score = svc_model.score(X_train, y_train)\n",
    "\n",
    "# სატესტოზე პროგნოზირება\n",
    "y_pred = svc_model.predict(X_test)\n",
    "\n",
    "# სატესტოს score\n",
    "test_score = accuracy_score(y_test, y_pred)\n",
    "\n",
    "train_score, test_score"
   ],
   "metadata": {
    "collapsed": false,
    "pycharm": {
     "name": "#%%\n"
    }
   }
  },
  {
   "cell_type": "markdown",
   "source": [
    "სხვაობა ტრენინგისა და ტესტირების ქულებს შორის მცირეა (დაახლოებით 0,018), რაც მიუთითებს იმაზე, რომ მოდელი ერთნაირად მუშაობს როგორც ტრენინგის, ასევე ტესტირების მონაცემთა ნაწილებზე."
   ],
   "metadata": {
    "collapsed": false,
    "pycharm": {
     "name": "#%% md\n"
    }
   }
  },
  {
   "cell_type": "code",
   "execution_count": null,
   "outputs": [],
   "source": [
    "from sklearn.feature_selection import SelectKBest, f_classif\n",
    "\n",
    "# 4 საუკეთესო სვეტი\n",
    "selector = SelectKBest(score_func=f_classif, k=4)\n",
    "X_new = selector.fit_transform(X, y)\n",
    "\n",
    "# გავყოთ სატესტო და სატრენინგო ნაწილებად\n",
    "X_train, X_test, y_train, y_test = train_test_split(X_new, y, test_size=0.2, random_state=42)\n",
    "\n",
    "# მოდელის ინიცირება და გაწვრთნა\n",
    "svc_model = SVC()\n",
    "svc_model.fit(X_train, y_train)\n",
    "\n",
    "# სატრენინგო ნაწილზე score გამოთვლა\n",
    "train_score = svc_model.score(X_train, y_train)\n",
    "\n",
    "# სატესტოზე პროგნოზირება\n",
    "y_pred = svc_model.predict(X_test)\n",
    "\n",
    "# სატესტოს score\n",
    "test_score = accuracy_score(y_test, y_pred)\n",
    "\n",
    "train_score, test_score"
   ],
   "metadata": {
    "collapsed": false,
    "pycharm": {
     "name": "#%%\n"
    }
   }
  },
  {
   "cell_type": "markdown",
   "source": [
    "4 სვეტის გათვალსიწინებით გაწრთვნილ მოდელსა და ყველა სვეტით გაწრთვნილ მოდელს შორის არცთუისე დიდს თუმცა სხვოაბას ვხედავთ. ეს სხვოაბა იმის მანიშნელბელია რომ მოდელი მონაცემებთან მუშაობისას ყველა სვეტის დახმარებით უკეთეს შედეგს გვაძლევს ვიდრე 4 სვეტთან მუშაობისას."
   ],
   "metadata": {
    "collapsed": false,
    "pycharm": {
     "name": "#%% md\n"
    }
   }
  },
  {
   "cell_type": "markdown",
   "source": [
    "# 2"
   ],
   "metadata": {
    "collapsed": false,
    "pycharm": {
     "name": "#%% md\n"
    }
   }
  },
  {
   "cell_type": "code",
   "execution_count": null,
   "outputs": [],
   "source": [
    "regression_df = pd.read_csv('regression.csv')\n",
    "\n",
    "# დამოუკიდებელი და ადმოკიდებული ცვლადების განცალკევება\n",
    "X = regression_df[['y']]\n",
    "y = regression_df['x']\n",
    "\n",
    "# გავყოთ მონაცმები სატესტო და სატრენინგო ნაწილებად\n",
    "X_train, X_test, y_train, y_test = train_test_split(X, y, test_size=0.15, random_state=42)\n",
    "\n",
    "# სატესტო და სატრენინგო ნაწილების ზომები\n",
    "X_train.shape, X_test.shape, y_train.shape, y_test.shape\n"
   ],
   "metadata": {
    "collapsed": false,
    "pycharm": {
     "name": "#%%\n"
    }
   }
  },
  {
   "cell_type": "code",
   "execution_count": null,
   "outputs": [],
   "source": [
    "from sklearn.preprocessing import StandardScaler\n",
    "\n",
    "# ინიციალიზება\n",
    "scaler = StandardScaler()\n",
    "\n",
    "# სკალირება\n",
    "X_train_scaled = scaler.fit_transform(X_train)\n",
    "X_test_scaled = scaler.transform(X_test)\n"
   ],
   "metadata": {
    "collapsed": false,
    "pycharm": {
     "name": "#%%\n"
    }
   }
  },
  {
   "cell_type": "code",
   "execution_count": null,
   "outputs": [],
   "source": [
    "from sklearn.linear_model import Ridge\n",
    "import numpy as np\n",
    "\n",
    "#სკალერის ინიცირება\n",
    "scaler = StandardScaler()\n",
    "\n",
    "# სკალირება\n",
    "X_train_scaled = scaler.fit_transform(X_train)\n",
    "X_test_scaled = scaler.transform(X_test)\n",
    "\n",
    "# შევსება გამოტოვებულების\n",
    "X_train_scaled = np.nan_to_num(X_train_scaled)\n",
    "X_test_scaled = np.nan_to_num(X_test_scaled)\n",
    "\n",
    "# მოდელის ინიცრება\n",
    "ridge_model = Ridge()\n",
    "ridge_model.fit(X_train_scaled, y_train)\n",
    "\n",
    "# score  გამოთვლა\n",
    "train_score = ridge_model.score(X_train_scaled, y_train)\n",
    "test_score = ridge_model.score(X_test_scaled, y_test)\n",
    "\n",
    "train_score, test_score"
   ],
   "metadata": {
    "collapsed": false,
    "pycharm": {
     "name": "#%%\n"
    }
   }
  },
  {
   "cell_type": "code",
   "execution_count": null,
   "outputs": [],
   "source": [],
   "metadata": {
    "collapsed": false,
    "pycharm": {
     "name": "#%%\n"
    }
   }
  },
  {
   "cell_type": "code",
   "execution_count": null,
   "outputs": [],
   "source": [
    "from sklearn.model_selection import train_test_split\n",
    "\n",
    "# დამოუკიდებელი და ადმოკიდებული ცვლადების განცალკევება\n",
    "X = df.drop('Prediction', axis=1)\n",
    "y = df['Prediction']\n",
    "\n",
    "# გავყოთ მონაცმები სატესტო და სატრენინგო ნაწილებად\n",
    "X_train, X_test, y_train, y_test = train_test_split(X, y, test_size=0.2, random_state=42)\n",
    "\n",
    "# სატესტო და სატრენინგო ნაწილების ზომები\n",
    "X_train.shape, X_test.shape, y_train.shape, y_test.shape\n"
   ],
   "metadata": {
    "collapsed": false,
    "pycharm": {
     "name": "#%%\n"
    }
   }
  },
  {
   "cell_type": "code",
   "execution_count": null,
   "outputs": [],
   "source": [
    "from sklearn.svm import SVC\n",
    "from sklearn.metrics import accuracy_score\n",
    "\n",
    "# მოდელის ინიცირება და გაწრთვნა\n",
    "svc_model = SVC()\n",
    "svc_model.fit(X_train, y_train)\n",
    "\n",
    "# სატრენინგო ნაწილზე score გამოთვლა\n",
    "train_score = svc_model.score(X_train, y_train)\n",
    "\n",
    "# სატესტოზე პროგნოზირება\n",
    "y_pred = svc_model.predict(X_test)\n",
    "\n",
    "# სატესტოს score\n",
    "test_score = accuracy_score(y_test, y_pred)\n",
    "\n",
    "train_score, test_score"
   ],
   "metadata": {
    "collapsed": false,
    "pycharm": {
     "name": "#%%\n"
    }
   }
  },
  {
   "cell_type": "markdown",
   "source": [
    "სხვაობა ტრენინგისა და ტესტირების ქულებს შორის მცირეა (დაახლოებით 0,018), რაც მიუთითებს იმაზე, რომ მოდელი ერთნაირად მუშაობს როგორც ტრენინგის, ასევე ტესტირების მონაცემთა ნაწილებზე."
   ],
   "metadata": {
    "collapsed": false,
    "pycharm": {
     "name": "#%% md\n"
    }
   }
  },
  {
   "cell_type": "code",
   "execution_count": null,
   "outputs": [],
   "source": [
    "from sklearn.feature_selection import SelectKBest, f_classif\n",
    "\n",
    "# 4 საუკეთესო სვეტი\n",
    "selector = SelectKBest(score_func=f_classif, k=4)\n",
    "X_new = selector.fit_transform(X, y)\n",
    "\n",
    "# გავყოთ სატესტო და სატრენინგო ნაწილებად\n",
    "X_train, X_test, y_train, y_test = train_test_split(X_new, y, test_size=0.2, random_state=42)\n",
    "\n",
    "# მოდელის ინიცირება და გაწვრთნა\n",
    "svc_model = SVC()\n",
    "svc_model.fit(X_train, y_train)\n",
    "\n",
    "# სატრენინგო ნაწილზე score გამოთვლა\n",
    "train_score = svc_model.score(X_train, y_train)\n",
    "\n",
    "# სატესტოზე პროგნოზირება\n",
    "y_pred = svc_model.predict(X_test)\n",
    "\n",
    "# სატესტოს score\n",
    "test_score = accuracy_score(y_test, y_pred)\n",
    "\n",
    "train_score, test_score"
   ],
   "metadata": {
    "collapsed": false,
    "pycharm": {
     "name": "#%%\n"
    }
   }
  },
  {
   "cell_type": "markdown",
   "source": [
    "4 სვეტის გათვალსიწინებით გაწრთვნილ მოდელსა და ყველა სვეტით გაწრთვნილ მოდელს შორის არცთუისე დიდს თუმცა სხვოაბას ვხედავთ. ეს სხვოაბა იმის მანიშნელბელია რომ მოდელი მონაცემებთან მუშაობისას ყველა სვეტის დახმარებით უკეთეს შედეგს გვაძლევს ვიდრე 4 სვეტთან მუშაობისას."
   ],
   "metadata": {
    "collapsed": false,
    "pycharm": {
     "name": "#%% md\n"
    }
   }
  },
  {
   "cell_type": "markdown",
   "source": [
    "# 2"
   ],
   "metadata": {
    "collapsed": false,
    "pycharm": {
     "name": "#%% md\n"
    }
   }
  },
  {
   "cell_type": "code",
   "execution_count": null,
   "outputs": [],
   "source": [
    "regression_df = pd.read_csv('regression.csv')\n",
    "\n",
    "# დამოუკიდებელი და ადმოკიდებული ცვლადების განცალკევება\n",
    "X = regression_df[['y']]\n",
    "y = regression_df['x']\n",
    "\n",
    "# გავყოთ მონაცმები სატესტო და სატრენინგო ნაწილებად\n",
    "X_train, X_test, y_train, y_test = train_test_split(X, y, test_size=0.15, random_state=42)\n",
    "\n",
    "# სატესტო და სატრენინგო ნაწილების ზომები\n",
    "X_train.shape, X_test.shape, y_train.shape, y_test.shape\n"
   ],
   "metadata": {
    "collapsed": false,
    "pycharm": {
     "name": "#%%\n"
    }
   }
  },
  {
   "cell_type": "code",
   "execution_count": null,
   "outputs": [],
   "source": [
    "from sklearn.preprocessing import StandardScaler\n",
    "\n",
    "# ინიციალიზება\n",
    "scaler = StandardScaler()\n",
    "\n",
    "# სკალირება\n",
    "X_train_scaled = scaler.fit_transform(X_train)\n",
    "X_test_scaled = scaler.transform(X_test)\n"
   ],
   "metadata": {
    "collapsed": false,
    "pycharm": {
     "name": "#%%\n"
    }
   }
  },
  {
   "cell_type": "code",
   "execution_count": null,
   "outputs": [],
   "source": [
    "from sklearn.linear_model import Ridge\n",
    "import numpy as np\n",
    "\n",
    "#სკალერის ინიცირება\n",
    "scaler = StandardScaler()\n",
    "\n",
    "# სკალირება\n",
    "X_train_scaled = scaler.fit_transform(X_train)\n",
    "X_test_scaled = scaler.transform(X_test)\n",
    "\n",
    "# შევსება გამოტოვებულების\n",
    "X_train_scaled = np.nan_to_num(X_train_scaled)\n",
    "X_test_scaled = np.nan_to_num(X_test_scaled)\n",
    "\n",
    "# მოდელის ინიცრება\n",
    "ridge_model = Ridge()\n",
    "ridge_model.fit(X_train_scaled, y_train)\n",
    "\n",
    "# score  გამოთვლა\n",
    "train_score = ridge_model.score(X_train_scaled, y_train)\n",
    "test_score = ridge_model.score(X_test_scaled, y_test)\n",
    "\n",
    "train_score, test_score"
   ],
   "metadata": {
    "collapsed": false,
    "pycharm": {
     "name": "#%%\n"
    }
   }
  },
  {
   "cell_type": "code",
   "execution_count": null,
   "outputs": [],
   "source": [],
   "metadata": {
    "collapsed": false,
    "pycharm": {
     "name": "#%%\n"
    }
   }
  },
  {
   "cell_type": "code",
   "execution_count": 5,
   "metadata": {},
   "outputs": [
    {
     "data": {
      "text/plain": [
       "(Index(['ect', 'in', 'is'], dtype='object'),\n",
       "    the  to        ect  and  for  of    a  you  hou    in  on    is  this  \\\n",
       " 0    0   0   1.000000    0    0   0    2    0    0   0.0   0   1.0     0   \n",
       " 1    8  13  24.000000    6    6   2  102    1   27  18.0  21  13.0     0   \n",
       " 2    0   0   1.000000    0    0   0    8    0    0   4.0   2   0.0     0   \n",
       " 3    0   5  22.000000    0    5   1   51    2   10   1.0   5   9.0     2   \n",
       " 4    7   6   6.650136    1    5   2   57    0    9   3.0  12   2.0     2   \n",
       " \n",
       "    enron   i  be  Prediction  \n",
       " 0      0   2   0           0  \n",
       " 1      1  61   4           0  \n",
       " 2      0   8   0           0  \n",
       " 3      0  16   2           0  \n",
       " 4      0  30   8           0  )"
      ]
     },
     "execution_count": 5,
     "metadata": {},
     "output_type": "execute_result"
    }
   ],
   "source": [
    "df = pd.read_csv('emails.csv')\n",
    "\n",
    "# გამოტოვებული მონაცემების შევსება \n",
    "missing_columns = df.columns[df.isnull().any()]\n",
    "df[missing_columns] = df[missing_columns].fillna(df[missing_columns].mean())\n",
    "\n",
    "missing_columns"
   ]
  },
  {
   "cell_type": "code",
   "execution_count": 7,
   "metadata": {},
   "outputs": [
    {
     "data": {
      "text/plain": [
       "((1759, 16), (440, 16), (1759,), (440,))"
      ]
     },
     "execution_count": 7,
     "metadata": {},
     "output_type": "execute_result"
    }
   ],
   "source": [
    "from sklearn.model_selection import train_test_split\n",
    "\n",
    "# დამოუკიდებელი და ადმოკიდებული ცვლადების განცალკევება\n",
    "X = df.drop('Prediction', axis=1)\n",
    "y = df['Prediction']\n",
    "\n",
    "# გავყოთ მონაცმები სატესტო და სატრენინგო ნაწილებად\n",
    "X_train, X_test, y_train, y_test = train_test_split(X, y, test_size=0.2, random_state=42)\n",
    "\n",
    "# სატესტო და სატრენინგო ნაწილების ზომები\n",
    "X_train.shape, X_test.shape, y_train.shape, y_test.shape\n"
   ]
  },
  {
   "cell_type": "code",
   "execution_count": 8,
   "metadata": {},
   "outputs": [
    {
     "data": {
      "text/plain": [
       "(0.7799886299033542, 0.7977272727272727)"
      ]
     },
     "execution_count": 8,
     "metadata": {},
     "output_type": "execute_result"
    }
   ],
   "source": [
    "from sklearn.svm import SVC\n",
    "from sklearn.metrics import accuracy_score\n",
    "\n",
    "# მოდელის ინიცირება და გაწრთვნა\n",
    "svc_model = SVC()\n",
    "svc_model.fit(X_train, y_train)\n",
    "\n",
    "# სატრენინგო ნაწილზე score გამოთვლა\n",
    "train_score = svc_model.score(X_train, y_train)\n",
    "\n",
    "# სატესტოზე პროგნოზირება\n",
    "y_pred = svc_model.predict(X_test)\n",
    "\n",
    "# სატესტოს score\n",
    "test_score = accuracy_score(y_test, y_pred)\n",
    "\n",
    "train_score, test_score"
   ]
  },
  {
   "cell_type": "markdown",
   "metadata": {},
   "source": [
    "სხვაობა ტრენინგისა და ტესტირების ქულებს შორის მცირეა (დაახლოებით 0,018), რაც მიუთითებს იმაზე, რომ მოდელი ერთნაირად მუშაობს როგორც ტრენინგის, ასევე ტესტირების მონაცემთა ნაწილებზე."
   ]
  },
  {
   "cell_type": "code",
   "execution_count": 10,
   "metadata": {},
   "outputs": [
    {
     "data": {
      "text/plain": [
       "(0.7418988061398522, 0.7704545454545455)"
      ]
     },
     "execution_count": 10,
     "metadata": {},
     "output_type": "execute_result"
    }
   ],
   "source": [
    "from sklearn.feature_selection import SelectKBest, f_classif\n",
    "\n",
    "# 4 საუკეთესო სვეტი\n",
    "selector = SelectKBest(score_func=f_classif, k=4)\n",
    "X_new = selector.fit_transform(X, y)\n",
    "\n",
    "# გავყოთ სატესტო და სატრენინგო ნაწილებად\n",
    "X_train, X_test, y_train, y_test = train_test_split(X_new, y, test_size=0.2, random_state=42)\n",
    "\n",
    "# მოდელის ინიცირება და გაწვრთნა\n",
    "svc_model = SVC()\n",
    "svc_model.fit(X_train, y_train)\n",
    "\n",
    "# სატრენინგო ნაწილზე score გამოთვლა\n",
    "train_score = svc_model.score(X_train, y_train)\n",
    "\n",
    "# სატესტოზე პროგნოზირება\n",
    "y_pred = svc_model.predict(X_test)\n",
    "\n",
    "# სატესტოს score\n",
    "test_score = accuracy_score(y_test, y_pred)\n",
    "\n",
    "train_score, test_score"
   ]
  },
  {
   "cell_type": "markdown",
   "metadata": {},
   "source": [
    "4 სვეტის გათვალსიწინებით გაწრთვნილ მოდელსა და ყველა სვეტით გაწრთვნილ მოდელს შორის არცთუისე დიდს თუმცა სხვოაბას ვხედავთ. ეს სხვოაბა იმის მანიშნელბელია რომ მოდელი მონაცემებთან მუშაობისას ყველა სვეტის დახმარებით უკეთეს შედეგს გვაძლევს ვიდრე 4 სვეტთან მუშაობისას."
   ]
  },
  {
   "cell_type": "markdown",
   "metadata": {},
   "source": [
    "# 2"
   ]
  },
  {
   "cell_type": "code",
   "execution_count": 11,
   "metadata": {},
   "outputs": [
    {
     "data": {
      "text/plain": [
       "((595, 1), (105, 1), (595,), (105,))"
      ]
     },
     "execution_count": 11,
     "metadata": {},
     "output_type": "execute_result"
    }
   ],
   "source": [
    "regression_df = pd.read_csv('regression.csv')\n",
    "\n",
    "# დამოუკიდებელი და ადმოკიდებული ცვლადების განცალკევება\n",
    "X = regression_df[['y']]\n",
    "y = regression_df['x']\n",
    "\n",
    "# გავყოთ მონაცმები სატესტო და სატრენინგო ნაწილებად\n",
    "X_train, X_test, y_train, y_test = train_test_split(X, y, test_size=0.15, random_state=42)\n",
    "\n",
    "# სატესტო და სატრენინგო ნაწილების ზომები\n",
    "X_train.shape, X_test.shape, y_train.shape, y_test.shape\n"
   ]
  },
  {
   "cell_type": "code",
   "execution_count": 12,
   "metadata": {},
   "outputs": [],
   "source": [
    "from sklearn.preprocessing import StandardScaler\n",
    "\n",
    "# ინიციალიზება\n",
    "scaler = StandardScaler()\n",
    "\n",
    "# სკალირება\n",
    "X_train_scaled = scaler.fit_transform(X_train)\n",
    "X_test_scaled = scaler.transform(X_test)\n"
   ]
  },
  {
   "cell_type": "code",
   "execution_count": 18,
   "metadata": {},
   "outputs": [
    {
     "data": {
      "text/plain": [
       "(0.03835947640837789, 0.9497523515473523)"
      ]
     },
     "execution_count": 18,
     "metadata": {},
     "output_type": "execute_result"
    }
   ],
   "source": [
    "from sklearn.linear_model import Ridge\n",
    "import numpy as np\n",
    "\n",
    "#სკალერის ინიცირება\n",
    "scaler = StandardScaler()\n",
    "\n",
    "# სკალირება\n",
    "X_train_scaled = scaler.fit_transform(X_train)\n",
    "X_test_scaled = scaler.transform(X_test)\n",
    "\n",
    "# შევსება გამოტოვებულების\n",
    "X_train_scaled = np.nan_to_num(X_train_scaled)\n",
    "X_test_scaled = np.nan_to_num(X_test_scaled)\n",
    "\n",
    "# მოდელის ინიცრება\n",
    "ridge_model = Ridge()\n",
    "ridge_model.fit(X_train_scaled, y_train)\n",
    "\n",
    "# score  გამოთვლა\n",
    "train_score = ridge_model.score(X_train_scaled, y_train)\n",
    "test_score = ridge_model.score(X_test_scaled, y_test)\n",
    "\n",
    "train_score, test_score"
   ]
  },
  {
   "cell_type": "code",
   "execution_count": null,
   "metadata": {},
   "outputs": [],
   "source": []
  }
 ],
 "metadata": {
  "kernelspec": {
   "display_name": "Python 3 (ipykernel)",
   "language": "python",
   "name": "python3"
  },
  "language_info": {
   "codemirror_mode": {
    "name": "ipython",
    "version": 3
   },
   "file_extension": ".py",
   "mimetype": "text/x-python",
   "name": "python",
   "nbconvert_exporter": "python",
   "pygments_lexer": "ipython3",
   "version": "3.9.10"
  }
 },
 "nbformat": 4,
 "nbformat_minor": 4
}