{
 "cells": [
  {
   "cell_type": "markdown",
   "metadata": {
    "id": "F1JDwFdXqIvA",
    "pycharm": {
     "name": "#%% md\n"
    }
   },
   "source": [
    "#**აღდგენითი დავალება #1**\n",
    "## **ვადა (deadline): 18 ივნისი 18:00**\n",
    "\n",
    "- თითოეული სავარჯიშო ფასდება შესაბამისი ქულით, რაც ჯამში შეადგენს **7 ქულას**"
   ]
  },
  {
   "cell_type": "markdown",
   "metadata": {
    "id": "GeGxFjBzo55Z",
    "pycharm": {
     "name": "#%% md\n"
    }
   },
   "source": [
    "## **სავარჯიშო 1:** სამედიცინო ტესტის სიზუსტე (**1 ქულა**)\n",
    "\n",
    "გარკვეული დაავადება გვხვდება მოსახლეობის 0.5%-ში. ამ დაავადების გამოსავლენ სამედიცინო ტესტს აქვს 99% მგრძნობელობა (ჭეშმარიტად დადებითი მაჩვენებელი) და 99% სპეციფიკურობა (ჭეშმარიტად უარყოფითი მაჩვენებელი). თუ ადამიანს ტესტის პასუხი დადებითი აქვს, რა არის იმის ალბათობა, რომ მას ნამდვილად აქვს ეს დაავადება?\n",
    "- ამოხსენით ბაიესის ფორმულით.\n",
    "- დაწერეთ შესაბამისი პითონის კოდი.\n",
    "\n"
   ]
  },
  {
   "cell_type": "markdown",
   "source": [
    "### **ამოხსნა:**\n",
    "\n",
    "*აქ დაწერეთ ფორმულით ამოხსნა*\n",
    "P(D∣T)= P(T)xP(T∣D)×P(D)\n",
    "​\n"
   ],
   "metadata": {
    "collapsed": false,
    "pycharm": {
     "name": "#%% md\n"
    }
   }
  },
  {
   "cell_type": "code",
   "execution_count": null,
   "outputs": [],
   "source": [
    "# კოდი\n",
    "\n",
    "\n",
    "\n",
    "\n",
    "\n"
   ],
   "metadata": {
    "collapsed": false,
    "pycharm": {
     "name": "#%%\n"
    }
   }
  },
  {
   "cell_type": "markdown",
   "source": [
    "## **სავარჯიშო 2:** ვებსაიტის კონვერსიის მაჩვენებლების A/B ტესტირება (**1 ქულა**)\n",
    "\n",
    "კომპანიას სურს შეამოწმოს, ახალი ვებსაიტის დიზაინი საშუალოდ უფრო მაღალ კონვერსიის იძლევა, თუ ამჟამინდელი. ისინი ატარებენ A/B ტესტს, სადაც ახალ დიზაინს აჩვენებენ მომხმარებელთა შემთხვევით შერჩეულ ჯგუფს (ჯგუფი A), ხოლო ამჟამინდელ დიზაინს - სხვა შემთხვევით შერჩეულ ჯგუფს (ჯგუფი B).\n",
    "- ქვემოთ მოცემული მონაცემებიდან დათვალეთ და შეადარეთ საშუალო კონვერსიები.\n",
    "- ჩამოაყალიბეთ ჰიპოთეზა და გატესტეთ.\n"
   ],
   "metadata": {
    "collapsed": false,
    "pycharm": {
     "name": "#%% md\n"
    }
   }
  },
  {
   "cell_type": "code",
   "execution_count": null,
   "outputs": [],
   "source": [
    "import numpy as np\n",
    "import scipy.stats as stats\n",
    "\n",
    "# მონაცემები\n",
    "conversions_A = np.array([1, 0, 0, 1, 1, 0, 1, 1, 0, 1])  # A-ჯგუფის კონვერსიები (ახალი დიზაინი)\n",
    "conversions_B = np.array([0, 1, 0, 0, 1, 0, 0, 0, 1, 0])  # B-ჯგუფის კონვერსიები (ამჟამინდელი დიზაინი)\n",
    "\n",
    "# საშუალო კონვერსიები\n",
    "mean_A = np.mean(conversions_A)\n",
    "mean_B = np.mean(conversions_B)\n",
    "\n",
    "# სტანდარტული შეცდომები\n",
    "std_err_A = np.std(conversions_A, ddof=1) / np.sqrt(len(conversions_A))\n",
    "std_err_B = np.std(conversions_B, ddof=1) / np.sqrt(len(conversions_B))\n",
    "\n",
    "# Z-ქულა\n",
    "pooled_se = np.sqrt(std_err_A**2 + std_err_B**2)\n",
    "z_score = (mean_A - mean_B) / pooled_se\n",
    "\n",
    "# P-მნიშვნელობა\n",
    "p_value = stats.norm.sf(abs(z_score)) * 2       # ორმხრივი ტესტი\n",
    "\n",
    "print(f\"A ჯგუფის საშუალო კონვერსია: {mean_A}\")\n",
    "print(f\"B ჯგუფის საშუალო კონვერსია: {mean_B}\")\n",
    "print(f\"Z-ქულა: {z_score}\")\n",
    "print(f\"P-მნიშვნელობა: {p_value}\")\n",
    "\n",
    "\n",
    "# ჰიპოთეზა (H0) - არანაირი განსხავება არ არის კონვერსიებს შორის , ორ განსხავებული დიზაინის შედარებისას\n",
    "alpha = 0.05\n",
    "if p_value < alpha:\n",
    "    print(\"შეგვიძლია ნულოვანი ჰიპოთეზის უარყოფა. განსხვავება კონვერსებიებს შორის ორ დიზაინში მართლაც არის\")\n",
    "else:\n",
    "    print(\"ვერ ვუარყიფთ ნულოვან ჰიპოთეზას. განსხავება კონვერსიებს შორის ორ დიზაინში არ არის \")"
   ],
   "metadata": {
    "collapsed": false,
    "pycharm": {
     "name": "#%%\n"
    }
   }
  },
  {
   "cell_type": "markdown",
   "source": [
    "## **სავარჯიშო 3:** გაყიდვების მონაცემების ანალიზი (**1 ქულა**)\n",
    "\n",
    "საცალო ვაჭრობის კომპანიას სურს გააანალიზოს გაყიდვების მონაცემები (sales_data.csv), რათა გაიგოს ტენდენციები, სეზონური მახასიათებლები და სხვადასხვა პროდუქტის კატეგორიების წარმადობა (performance)\n",
    "- ხაზოვანი დიაგრამით გამოსახეთ გაყიდვების დროითი მწკრივი.\n",
    "- სვეტოვანი დიაგრამით გამოსახეთ ყოველთვიური გაყიდვები.\n",
    "- პროდუქტის კატეგორიების მიხედვით ვიზუალიზება გაუკეთეთ ბოქსპლოტებს."
   ],
   "metadata": {
    "collapsed": false,
    "pycharm": {
     "name": "#%% md\n"
    }
   }
  },
  {
   "cell_type": "code",
   "execution_count": null,
   "outputs": [],
   "source": [
    "import pandas as pd\n",
    "\n",
    "sales_data = pd.read_csv('data/sales_data.csv')\n",
    "\n",
    "sales_data.head()"
   ],
   "metadata": {
    "collapsed": false,
    "pycharm": {
     "name": "#%%\n"
    }
   }
  },
  {
   "cell_type": "code",
   "execution_count": null,
   "outputs": [],
   "source": [
    "import matplotlib.pyplot as plt\n",
    "\n",
    "# ობიექტის ტიპი გარდავქმნათ datetime ად\n",
    "sales_data['date'] = pd.to_datetime(sales_data['date'])\n",
    "\n",
    "# ავაგოთ პლოტი\n",
    "plt.figure(figsize=(14, 6))\n",
    "plt.plot(sales_data['date'], sales_data['sales'], marker='o', linestyle='-', markersize=4)\n",
    "plt.title('გაყიდვათა დროის მწკრივი')\n",
    "plt.xlabel('თარიღ')\n",
    "plt.ylabel('გაყიდვები')\n",
    "plt.grid(True)\n",
    "plt.show()\n"
   ],
   "metadata": {
    "collapsed": false,
    "pycharm": {
     "name": "#%%\n"
    }
   }
  },
  {
   "cell_type": "code",
   "execution_count": null,
   "outputs": [],
   "source": [
    "# ახალი მონაცემთა სტრქუტურის შემქნა სადაც გაერთიანებული გაყიდვები, დაჯგუფებული გაყიდველი დროის მიხედვით\n",
    "monthly_sales = sales_data.groupby(sales_data['date'].dt.to_period('M')).agg(total_sales=('sales', 'sum')).reset_index()\n",
    "monthly_sales['year_month'] = monthly_sales['date'].dt.strftime('%Y-%m')\n",
    "\n",
    "plt.figure(figsize=(14, 6))\n",
    "plt.bar(monthly_sales['year_month'], monthly_sales['total_sales'], color='skyblue')\n",
    "plt.title('თვიური გაყიდვები')\n",
    "plt.xlabel('თვე')\n",
    "plt.ylabel('ჯამური გაყიდვები')\n",
    "plt.xticks(rotation=45)\n",
    "plt.tight_layout()\n",
    "plt.show()\n"
   ],
   "metadata": {
    "collapsed": false,
    "pycharm": {
     "name": "#%%\n"
    }
   }
  },
  {
   "cell_type": "code",
   "execution_count": null,
   "outputs": [],
   "source": [
    "# BoxPlot  კატეგორიათა მიხედვით\n",
    "plt.figure(figsize=(10, 6))\n",
    "plt.boxplot([sales_data.loc[sales_data['category'] == cat, 'sales'] for cat in sales_data['category'].unique()],\n",
    "            labels=sales_data['category'].unique())\n",
    "plt.title('გაყიდულ პროდუქტა განაწილება კატეგორიის მიხედვით')\n",
    "plt.xlabel('კატეგორია')\n",
    "plt.ylabel('გაყიდები')\n",
    "plt.grid(True)\n",
    "plt.show()\n"
   ],
   "metadata": {
    "collapsed": false,
    "pycharm": {
     "name": "#%%\n"
    }
   }
  },
  {
   "cell_type": "markdown",
   "source": [
    "## **სავარჯიშო 4:** საგამოცდო ქულების ანალიზი (**1 ქულა**)\n",
    "\n",
    "უნივერსიტეტს სურს გააანალიზოს სტუდენტების საგამოცდო ქულების განაწილება, რათა გაიგოს მათი მოსწრების პროფილი.\n",
    "- seaborn ბიბლიოთეკის მეშვეობით გამოსახეთ საგამოცდო ქულების ჰისტოგრამა და განაწილების ფუნქცია.\n",
    "- pandas და scipy.stats-ის მეშვეობით დათვალეთ განაწილების საშუალო, მედიანა, მოდა, დისპერსია, სტანდარტული გადახრა, ასიმეტრია და ექსცესი. დაბეჭდეთ მიღებული შედეგები.\n"
   ],
   "metadata": {
    "collapsed": false,
    "pycharm": {
     "name": "#%% md\n"
    }
   }
  },
  {
   "cell_type": "code",
   "execution_count": null,
   "outputs": [],
   "source": [
    "import pandas as pd\n",
    "import numpy as np\n",
    "import matplotlib.pyplot as plt\n",
    "import seaborn as sns\n",
    "from scipy.stats import skew, kurtosis\n",
    "\n",
    "# მონაცემების გენერირება\n",
    "np.random.seed(0)\n",
    "exam_scores = np.random.normal(75, 10, 1000)\n",
    "\n",
    "# ცხრილად ქცევა\n",
    "df = pd.DataFrame({'Exam Scores': exam_scores})\n",
    "\n",
    "# ვიზუალიზება\n",
    "plt.figure(figsize=(10, 6))\n",
    "sns.histplot(df['Exam Scores'], kde=True, color='blue')\n",
    "plt.title('ფინალურ გამოცდაში მიღებულ ქულათა გადანაწილება')\n",
    "plt.xlabel('გამოცდის ქულები')\n",
    "plt.ylabel('სიხშირე')\n",
    "plt.show()\n",
    "\n",
    "# მახასიათებლები\n",
    "mean = df['Exam Scores'].mean()\n",
    "median = df['Exam Scores'].median()\n",
    "mode = df['Exam Scores'].mode()[0]\n",
    "variance = df['Exam Scores'].var()\n",
    "std_dev = df['Exam Scores'].std()\n",
    "skewness = skew(df['Exam Scores'])\n",
    "kurt = kurtosis(df['Exam Scores'])\n",
    "\n",
    "\n",
    "# დაბეჭდე შედეგები\n",
    "print(f\" საშუალო: {mean}\")\n",
    "print(f\" მედიანა: {median}\")\n",
    "print(f\" მოდა: {mode}\")\n",
    "print(f\" დისპერსია: {variance}\")\n",
    "print(f\" სტანდარტული გადახრა: {std_dev}\")\n",
    "print(f\" ასიმეტია: {skewness}\")\n",
    "print(f\" ექსესი: {kurt}\")\n"
   ],
   "metadata": {
    "collapsed": false,
    "pycharm": {
     "name": "#%%\n"
    }
   }
  },
  {
   "cell_type": "markdown",
   "source": [
    "## **სავარჯიშო 5:** დასაქმებულთა ხელფასის მოდელი (**3 ქულა**)\n",
    "\n",
    "კომპანიას სურს შეაფასოს, დასაქმების ბაზარზე ხელფასზე რა გავლენას ახდენს გამოცდილება, განათლების დონე და თანამდებობა, რათა უზრუნველყოს სამართლიანი და კონკურენტული ანაზღაურება. მოცემულია დასაქმების ბაზრის მონაცემები employee_salaries.csv:\n",
    "\n",
    "- განსაზღვრეთ წრფივი რეგრესიის ფორმულა.\n",
    "- გაყავით მონაცემები საწვრთნელ და სატესტო ნაწილებად.\n",
    "- გაწვრთენით წრფივი რეგრესიის მოდელი.\n",
    "- სვეტოვანი დიაგრამით გამოსახეთ რეგრესიის კოეფიციენტები.\n",
    "- გაფანტულობის დიაგრამით გამოსახეთ ნამდვილი და მოდელით ნაპროგნოზები ხელფასების ურთიერთმიმართება.\n",
    "- გამოთვალეთ მოდელის საშუალო კვადრატული ცდომილების ფესვი (RMSE - Root Mean Squared Error), საშუალო აბსოლუტური შეცდომა (MAE - Mean Absolute Error) და $R^2$ (დეტერმინაციის კოეფიციენტი).\n",
    "- გამოიტანეთ დასკვნა, რამდენად კარგი ჩანს მოდელი.\n"
   ],
   "metadata": {
    "collapsed": false,
    "pycharm": {
     "name": "#%% md\n"
    }
   }
  },
  {
   "cell_type": "code",
   "execution_count": null,
   "outputs": [],
   "source": [
    "employee_data = pd.read_csv('data/employee_salaries.csv')\n",
    "\n",
    "employee_data.head()"
   ],
   "metadata": {
    "collapsed": false,
    "pycharm": {
     "name": "#%%\n"
    }
   }
  },
  {
   "cell_type": "code",
   "execution_count": null,
   "outputs": [],
   "source": [
    "from sklearn.preprocessing import OneHotEncoder\n",
    "import pandas as pd\n",
    "from sklearn.model_selection import train_test_split\n",
    "from sklearn.linear_model import LinearRegression\n",
    "from sklearn.metrics import mean_squared_error, mean_absolute_error, r2_score\n",
    "\n",
    "# encoding კატეგორიული ცვლადისათვის\n",
    "encoder = OneHotEncoder(drop='first')\n",
    "encoded_positions = encoder.fit_transform(employee_data[['job_position']])\n",
    "encoded_positions_df = pd.DataFrame(encoded_positions.toarray(), columns=encoder.get_feature_names_out(['job_position']))\n",
    "\n",
    "# Concatenate encoded columns back to the original dataframe\n",
    "employee_data_encoded = pd.concat([employee_data.drop('job_position', axis=1), encoded_positions_df], axis=1)\n",
    "\n",
    "# განვსაღვროთ თვისებები და სამიზნე ველები\n",
    "X = employee_data_encoded.drop('salary', axis=1)\n",
    "y = employee_data_encoded['salary']\n",
    "\n",
    "# განვსაზღვროთ სატესტო და სატრენინგო მონეაცმები\n",
    "X_train, X_test, y_train, y_test = train_test_split(X, y, test_size=0.2, random_state=42)\n",
    "\n",
    "# გავწრთნათ წრფივი რეგრესია\n",
    "model = LinearRegression()\n",
    "model.fit(X_train, y_train)\n",
    "\n",
    "# პროგნოზირება სატესტო მონაცემებზე\n",
    "y_pred = model.predict(X_test)\n",
    "\n",
    "# დავთვალოთ მეტრიკები\n",
    "rmse = mean_squared_error(y_test, y_pred, squared=False)\n",
    "mae = mean_absolute_error(y_test, y_pred)\n",
    "r2 = r2_score(y_test, y_pred)\n",
    "\n",
    "rmse, mae, r2\n"
   ],
   "metadata": {
    "collapsed": false,
    "pycharm": {
     "name": "#%%\n"
    }
   }
  },
  {
   "cell_type": "code",
   "execution_count": null,
   "outputs": [],
   "source": [
    "# მოდელის კოეფიციენტები და თვისებები\n",
    "coefficients = model.coef_\n",
    "features = X.columns\n",
    "\n",
    "coeff_df = pd.DataFrame(coefficients, index=features, columns=['Coefficient'])\n",
    "\n",
    "# კოეფიციენტების დიაგრამა\n",
    "plt.figure(figsize=(10, 6))\n",
    "coeff_df.sort_values(by='Coefficient', ascending=True).plot(kind='barh', legend=None)\n",
    "plt.title('წრფივი რეგრესიის კოეფიციენტები')\n",
    "plt.xlabel('კოეფიციენტი')\n",
    "plt.ylabel('თვისება')\n",
    "plt.grid(True)\n",
    "plt.show()\n"
   ],
   "metadata": {
    "collapsed": false,
    "pycharm": {
     "name": "#%%\n"
    }
   }
  },
  {
   "cell_type": "markdown",
   "source": [
    "წრფივი რეგრესიის მოდელი ეფექტური აღოჩნდა მოცემულ შემთხვევაში, თანამშორბლების ხელფასების პროგნოზირებაზე მოცემული მახასიათებლების მიხედვით(გამოცდილება, განათლება, სამუშაო პოზიცია). "
   ],
   "metadata": {
    "collapsed": false,
    "pycharm": {
     "name": "#%% md\n"
    }
   }
  },
  {
   "cell_type": "code",
   "execution_count": 24,
   "metadata": {
    "id": "fNqIh79TRqV3",
    "pycharm": {
     "is_executing": true,
     "name": "#%%\n"
    }
   },
   "outputs": [
    {
     "data": {
      "image/png": "[encoded data removed]",
      "text/plain": [
       "<Figure size 1000x600 with 1 Axes>"
      ]
     },
     "metadata": {},
     "output_type": "display_data"
    },
    {
     "name": "stdout",
     "output_type": "stream",
     "text": [
      " საშუალო: 74.54743292509804\n",
      " მედიანა: 74.41971965200372\n",
      " მოდა: 44.53856945200073\n",
      " დისპერსია: 97.52096659781323\n",
      " სტანდარტული გადახრა: 9.875270456945128\n",
      " ასიმეტია: 0.03385895323566018\n",
      " ექსესი: -0.04676632447832896\n"
     ]
    }
   ],
   "source": [
    "import pandas as pd\n",
    "import numpy as np\n",
    "import matplotlib.pyplot as plt\n",
    "import seaborn as sns\n",
    "from scipy.stats import skew, kurtosis\n",
    "\n",
    "# მონაცემების გენერირება\n",
    "np.random.seed(0)\n",
    "exam_scores = np.random.normal(75, 10, 1000)\n",
    "\n",
    "# ცხრილად ქცევა\n",
    "df = pd.DataFrame({'Exam Scores': exam_scores})\n",
    "\n",
    "# ვიზუალიზება\n",
    "plt.figure(figsize=(10, 6))\n",
    "sns.histplot(df['Exam Scores'], kde=True, color='blue')\n",
    "plt.title('ფინალურ გამოცდაში მიღებულ ქულათა გადანაწილება')\n",
    "plt.xlabel('გამოცდის ქულები')\n",
    "plt.ylabel('სიხშირე')\n",
    "plt.show()\n",
    "\n",
    "# მახასიათებლები\n",
    "mean = df['Exam Scores'].mean()\n",
    "median = df['Exam Scores'].median()\n",
    "mode = df['Exam Scores'].mode()[0]\n",
    "variance = df['Exam Scores'].var()\n",
    "std_dev = df['Exam Scores'].std()\n",
    "skewness = skew(df['Exam Scores'])\n",
    "kurt = kurtosis(df['Exam Scores'])\n",
    "\n",
    "\n",
    "# დაბეჭდე შედეგები\n",
    "print(f\" საშუალო: {mean}\")\n",
    "print(f\" მედიანა: {median}\")\n",
    "print(f\" მოდა: {mode}\")\n",
    "print(f\" დისპერსია: {variance}\")\n",
    "print(f\" სტანდარტული გადახრა: {std_dev}\")\n",
    "print(f\" ასიმეტია: {skewness}\")\n",
    "print(f\" ექსესი: {kurt}\")\n"
   ]
  },
  {
   "cell_type": "markdown",
   "metadata": {
    "id": "cnLbqsentG7u",
    "pycharm": {
     "name": "#%% md\n"
    }
   },
   "source": [
    "## **სავარჯიშო 5:** დასაქმებულთა ხელფასის მოდელი (**3 ქულა**)\n",
    "\n",
    "კომპანიას სურს შეაფასოს, დასაქმების ბაზარზე ხელფასზე რა გავლენას ახდენს გამოცდილება, განათლების დონე და თანამდებობა, რათა უზრუნველყოს სამართლიანი და კონკურენტული ანაზღაურება. მოცემულია დასაქმების ბაზრის მონაცემები employee_salaries.csv:\n",
    "\n",
    "- განსაზღვრეთ წრფივი რეგრესიის ფორმულა.\n",
    "- გაყავით მონაცემები საწვრთნელ და სატესტო ნაწილებად.\n",
    "- გაწვრთენით წრფივი რეგრესიის მოდელი.\n",
    "- სვეტოვანი დიაგრამით გამოსახეთ რეგრესიის კოეფიციენტები.\n",
    "- გაფანტულობის დიაგრამით გამოსახეთ ნამდვილი და მოდელით ნაპროგნოზები ხელფასების ურთიერთმიმართება.\n",
    "- გამოთვალეთ მოდელის საშუალო კვადრატული ცდომილების ფესვი (RMSE - Root Mean Squared Error), საშუალო აბსოლუტური შეცდომა (MAE - Mean Absolute Error) და $R^2$ (დეტერმინაციის კოეფიციენტი).\n",
    "- გამოიტანეთ დასკვნა, რამდენად კარგი ჩანს მოდელი.\n"
   ]
  },
  {
   "cell_type": "code",
   "execution_count": 25,
   "metadata": {
    "id": "buuuHVzDu62G",
    "pycharm": {
     "name": "#%%\n"
    }
   },
   "outputs": [
    {
     "data": {
      "text/html": [
       "<div>\n",
       "<style scoped>\n",
       "    .dataframe tbody tr th:only-of-type {\n",
       "        vertical-align: middle;\n",
       "    }\n",
       "\n",
       "    .dataframe tbody tr th {\n",
       "        vertical-align: top;\n",
       "    }\n",
       "\n",
       "    .dataframe thead th {\n",
       "        text-align: right;\n",
       "    }\n",
       "</style>\n",
       "<table border=\"1\" class=\"dataframe\">\n",
       "  <thead>\n",
       "    <tr style=\"text-align: right;\">\n",
       "      <th></th>\n",
       "      <th>experience</th>\n",
       "      <th>education</th>\n",
       "      <th>job_position</th>\n",
       "      <th>salary</th>\n",
       "    </tr>\n",
       "  </thead>\n",
       "  <tbody>\n",
       "    <tr>\n",
       "      <th>0</th>\n",
       "      <td>7.123591</td>\n",
       "      <td>0</td>\n",
       "      <td>Junior</td>\n",
       "      <td>12130.807823</td>\n",
       "    </tr>\n",
       "    <tr>\n",
       "      <th>1</th>\n",
       "      <td>5.215617</td>\n",
       "      <td>0</td>\n",
       "      <td>Senior</td>\n",
       "      <td>13975.692769</td>\n",
       "    </tr>\n",
       "    <tr>\n",
       "      <th>2</th>\n",
       "      <td>4.798317</td>\n",
       "      <td>1</td>\n",
       "      <td>Junior</td>\n",
       "      <td>12589.845042</td>\n",
       "    </tr>\n",
       "    <tr>\n",
       "      <th>3</th>\n",
       "      <td>3.799687</td>\n",
       "      <td>0</td>\n",
       "      <td>Junior</td>\n",
       "      <td>9344.863186</td>\n",
       "    </tr>\n",
       "    <tr>\n",
       "      <th>4</th>\n",
       "      <td>3.412767</td>\n",
       "      <td>2</td>\n",
       "      <td>Senior</td>\n",
       "      <td>14794.335833</td>\n",
       "    </tr>\n",
       "  </tbody>\n",
       "</table>\n",
       "</div>"
      ],
      "text/plain": [
       "   experience  education job_position        salary\n",
       "0    7.123591          0       Junior  12130.807823\n",
       "1    5.215617          0       Senior  13975.692769\n",
       "2    4.798317          1       Junior  12589.845042\n",
       "3    3.799687          0       Junior   9344.863186\n",
       "4    3.412767          2       Senior  14794.335833"
      ]
     },
     "execution_count": 25,
     "metadata": {},
     "output_type": "execute_result"
    }
   ],
   "source": [
    "employee_data = pd.read_csv('data/employee_salaries.csv')\n",
    "\n",
    "employee_data.head()"
   ]
  },
  {
   "cell_type": "code",
   "execution_count": 30,
   "metadata": {},
   "outputs": [
    {
     "name": "stderr",
     "output_type": "stream",
     "text": [
      "C:\\Users\\Space Cowboy\\PycharmProjects\\Data Science\\venv\\lib\\site-packages\\sklearn\\metrics\\_regression.py:483: FutureWarning: 'squared' is deprecated in version 1.4 and will be removed in 1.6. To calculate the root mean squared error, use the function'root_mean_squared_error'.\n",
      "  warnings.warn(\n"
     ]
    },
    {
     "data": {
      "text/plain": [
       "(1008.5223025663114, 810.8490362511724, 0.9118584938427918)"
      ]
     },
     "execution_count": 30,
     "metadata": {},
     "output_type": "execute_result"
    }
   ],
   "source": [
    "from sklearn.preprocessing import OneHotEncoder\n",
    "import pandas as pd\n",
    "from sklearn.model_selection import train_test_split\n",
    "from sklearn.linear_model import LinearRegression\n",
    "from sklearn.metrics import mean_squared_error, mean_absolute_error, r2_score\n",
    "\n",
    "# encoding კატეგორიული ცვლადისათვის\n",
    "encoder = OneHotEncoder(drop='first')\n",
    "encoded_positions = encoder.fit_transform(employee_data[['job_position']])\n",
    "encoded_positions_df = pd.DataFrame(encoded_positions.toarray(), columns=encoder.get_feature_names_out(['job_position']))\n",
    "\n",
    "# Concatenate encoded columns back to the original dataframe\n",
    "employee_data_encoded = pd.concat([employee_data.drop('job_position', axis=1), encoded_positions_df], axis=1)\n",
    "\n",
    "# განვსაღვროთ თვისებები და სამიზნე ველები\n",
    "X = employee_data_encoded.drop('salary', axis=1)\n",
    "y = employee_data_encoded['salary']\n",
    "\n",
    "# განვსაზღვროთ სატესტო და სატრენინგო მონეაცმები\n",
    "X_train, X_test, y_train, y_test = train_test_split(X, y, test_size=0.2, random_state=42)\n",
    "\n",
    "# გავწრთნათ წრფივი რეგრესია\n",
    "model = LinearRegression()\n",
    "model.fit(X_train, y_train)\n",
    "\n",
    "# პროგნოზირება სატესტო მონაცემებზე\n",
    "y_pred = model.predict(X_test)\n",
    "\n",
    "# დავთვალოთ მეტრიკები\n",
    "rmse = mean_squared_error(y_test, y_pred, squared=False)\n",
    "mae = mean_absolute_error(y_test, y_pred)\n",
    "r2 = r2_score(y_test, y_pred)\n",
    "\n",
    "rmse, mae, r2\n"
   ]
  },
  {
   "cell_type": "code",
   "execution_count": 33,
   "metadata": {},
   "outputs": [
    {
     "data": {
      "text/plain": [
       "<Figure size 1000x600 with 0 Axes>"
      ]
     },
     "metadata": {},
     "output_type": "display_data"
    },
    {
     "data": {
      "image/png": "[encoded data removed]",
      "text/plain": [
       "<Figure size 640x480 with 1 Axes>"
      ]
     },
     "metadata": {},
     "output_type": "display_data"
    }
   ],
   "source": [
    "# მოდელის კოეფიციენტები და თვისებები\n",
    "coefficients = model.coef_\n",
    "features = X.columns\n",
    "\n",
    "coeff_df = pd.DataFrame(coefficients, index=features, columns=['Coefficient'])\n",
    "\n",
    "# კოეფიციენტების დიაგრამა\n",
    "plt.figure(figsize=(10, 6))\n",
    "coeff_df.sort_values(by='Coefficient', ascending=True).plot(kind='barh', legend=None)\n",
    "plt.title('წრფივი რეგრესიის კოეფიციენტები')\n",
    "plt.xlabel('კოეფიციენტი')\n",
    "plt.ylabel('თვისება')\n",
    "plt.grid(True)\n",
    "plt.show()\n"
   ]
  },
  {
   "cell_type": "markdown",
   "metadata": {},
   "source": [
    "წრფივი რეგრესიის მოდელი ეფექტური აღოჩნდა მოცემულ შემთხვევაში, თანამშორბლების ხელფასების პროგნოზირებაზე მოცემული მახასიათებლების მიხედვით(გამოცდილება, განათლება, სამუშაო პოზიცია). "
   ]
  }
 ],
 "metadata": {
  "colab": {
   "provenance": [
    {
     "file_id": "1WDh8Lz-MQBfQ9wmJ4T0O4xBC79JzPzf6",
     "timestamp": 1716280103930
    },
    {
     "file_id": "1g29GIAuthxc38udpDP0hKywsdLX3QTGO",
     "timestamp": 1716201109008
    }
   ]
  },
  "kernelspec": {
   "display_name": "Python 3 (ipykernel)",
   "language": "python",
   "name": "python3"
  },
  "language_info": {
   "codemirror_mode": {
    "name": "ipython",
    "version": 3
   },
   "file_extension": ".py",
   "mimetype": "text/x-python",
   "name": "python",
   "nbconvert_exporter": "python",
   "pygments_lexer": "ipython3",
   "version": "3.9.10"
  }
 },
 "nbformat": 4,
 "nbformat_minor": 4
}